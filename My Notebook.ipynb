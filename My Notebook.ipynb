{
 "cells": [
  {
   "cell_type": "code",
   "execution_count": 2,
   "id": "e4a7be65-4c14-4b4b-8978-1a316e1c24d3",
   "metadata": {},
   "outputs": [
    {
     "data": {
      "text/plain": [
       "4"
      ]
     },
     "execution_count": 2,
     "metadata": {},
     "output_type": "execute_result"
    }
   ],
   "source": [
    "2+2"
   ]
  },
  {
   "cell_type": "markdown",
   "id": "198a5d90",
   "metadata": {},
   "source": [
    "<h2>This is awesome</h2>"
   ]
  },
  {
   "cell_type": "markdown",
   "id": "5a270b46",
   "metadata": {},
   "source": [
    "<a href=\"https://cognitiveclass.ai/\"> Cognitive Class</a>"
   ]
  },
  {
   "cell_type": "markdown",
   "id": "e1958f89",
   "metadata": {},
   "source": [
    "|Header1|Header2|Header3|\n",
    "|------|------|------|\n",
    "|This|is|great|\n",
    "|I|love|it|\n",
    "|Cell|Cell|Cell|\n",
    "|Cell|Cell|Cell|"
   ]
  },
  {
   "cell_type": "code",
   "execution_count": null,
   "id": "e1555817",
   "metadata": {},
   "outputs": [],
   "source": []
  }
 ],
 "metadata": {
  "kernelspec": {
   "display_name": "Python 3 (ipykernel)",
   "language": "python",
   "name": "python3"
  },
  "language_info": {
   "codemirror_mode": {
    "name": "ipython",
    "version": 3
   },
   "file_extension": ".py",
   "mimetype": "text/x-python",
   "name": "python",
   "nbconvert_exporter": "python",
   "pygments_lexer": "ipython3",
   "version": "3.9.7"
  }
 },
 "nbformat": 4,
 "nbformat_minor": 5
}
